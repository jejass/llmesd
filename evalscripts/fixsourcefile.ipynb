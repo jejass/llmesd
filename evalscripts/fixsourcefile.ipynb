{
 "cells": [
  {
   "cell_type": "code",
   "execution_count": null,
   "id": "f94ceee5",
   "metadata": {},
   "outputs": [
    {
     "name": "stdout",
     "output_type": "stream",
     "text": [
      "✅ 已处理完成，只给 prompt 列加引号：../data/data/unsafe-prompts4703_fixed.csv\n"
     ]
    }
   ],
   "source": [
    "import csv\n",
    "\n",
    "input_path = \"../data/unsafe-prompts4703.csv\"\n",
    "output_path = \"../data/unsafe-prompts4703_fixed.csv\"\n",
    "\n",
    "with open(input_path, 'r', encoding='utf-8') as infile, \\\n",
    "     open(output_path, 'w', encoding='utf-8', newline='') as outfile:\n",
    "    reader = csv.DictReader(infile)\n",
    "    fieldnames = reader.fieldnames\n",
    "    writer = csv.DictWriter(outfile, fieldnames=fieldnames, quoting=csv.QUOTE_MINIMAL)\n",
    "    writer.writeheader()\n",
    "    \n",
    "    for row in reader:\n",
    "        # 只给 prompt 列加双引号（如果未加）\n",
    "        if 'prompt' in row and row['prompt'] is not None:\n",
    "            prompt_value = row['prompt'].strip()\n",
    "            if not (prompt_value.startswith('\"') and prompt_value.endswith('\"')):\n",
    "                row['prompt'] = f'\"{prompt_value}\"'\n",
    "        if 'categories' in row and row['categories'] is not None:\n",
    "            categories_value = row['categories'].strip()\n",
    "            if not (categories_value.startswith('\"') and categories_value.endswith('\"')):\n",
    "                row['categories'] = f'\"{categories_value}\"'\n",
    "        writer.writerow(row)\n",
    "\n",
    "print(f\"✅ 已处理完成，只给 prompt 列加引号：{output_path}\")"
   ]
  }
 ],
 "metadata": {
  "kernelspec": {
   "display_name": "25S2312",
   "language": "python",
   "name": "python3"
  },
  "language_info": {
   "codemirror_mode": {
    "name": "ipython",
    "version": 3
   },
   "file_extension": ".py",
   "mimetype": "text/x-python",
   "name": "python",
   "nbconvert_exporter": "python",
   "pygments_lexer": "ipython3",
   "version": "3.12.11"
  }
 },
 "nbformat": 4,
 "nbformat_minor": 5
}
