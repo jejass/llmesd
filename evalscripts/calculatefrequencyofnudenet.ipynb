{
 "cells": [
  {
   "cell_type": "markdown",
   "id": "8371f319",
   "metadata": {},
   "source": [
    "stable diffusion 1.4 的baseline"
   ]
  },
  {
   "cell_type": "code",
   "execution_count": 3,
   "id": "09a9a578",
   "metadata": {},
   "outputs": [
    {
     "name": "stdout",
     "output_type": "stream",
     "text": [
      "                  Label  Count  Proportion\n",
      "0                FACE_F   1595    0.339145\n",
      "1                FACE_M    275    0.058473\n",
      "2       EXPOSED_ARMPITS    262    0.055709\n",
      "3      EXPOSED_BREAST_F    248    0.052732\n",
      "4      COVERED_BREAST_F    216    0.045928\n",
      "5         EXPOSED_BELLY    156    0.033170\n",
      "6          COVERED_FEET     77    0.016373\n",
      "7          EXPOSED_FEET     56    0.011907\n",
      "8      EXPOSED_BUTTOCKS     32    0.006804\n",
      "9   COVERED_GENITALIA_F     32    0.006804\n",
      "10     EXPOSED_BREAST_M     30    0.006379\n",
      "11  EXPOSED_GENITALIA_F     23    0.004890\n",
      "12  EXPOSED_GENITALIA_M      7    0.001488\n",
      "13     COVERED_BUTTOCKS      4    0.000851\n",
      "14        COVERED_BELLY      1    0.000213\n"
     ]
    }
   ],
   "source": [
    "import pandas as pd\n",
    "from collections import Counter\n",
    "\n",
    "# 读取文件\n",
    "df = pd.read_csv('nudenetres1.csv')\n",
    "\n",
    "# 检查是否存在目标列\n",
    "if 'NudeNet_label' not in df.columns:\n",
    "    raise ValueError(\"文件中没有'NudeNet_label'列，请检查列名是否正确。\")\n",
    "\n",
    "# 定义计数器\n",
    "counter = Counter()\n",
    "total_rows = len(df)\n",
    "# 遍历每一行的标签\n",
    "for label_str in df['NudeNet_label'].dropna():\n",
    "    # 去除首尾空格\n",
    "    label_str = label_str.strip()\n",
    "    # 如果有多个标签，用 '-' 分割\n",
    "    parts = label_str.split('-')\n",
    "    for p in parts:\n",
    "        p = p.strip()\n",
    "        if p:  # 忽略空字符串\n",
    "            counter[p] += 1\n",
    "\n",
    "# 将结果转成 DataFrame，方便查看和保存\n",
    "result_df = pd.DataFrame(counter.items(), columns=['Label', 'Count'])\n",
    "result_df['Proportion'] = result_df['Count'] / total_rows\n",
    "result_df = result_df.sort_values(by='Count', ascending=False).reset_index(drop=True)\n",
    "\n",
    "\n",
    "# 打印前20个最常见标签\n",
    "print(result_df.head(500))\n",
    "\n",
    "# # 如果你想保存结果：\n",
    "# result_df.to_csv('label_count.csv', index=False)\n",
    "# print(\"结果已保存为 label_count.csv\")\n"
   ]
  },
  {
   "cell_type": "code",
   "execution_count": 1,
   "id": "3ea90f73",
   "metadata": {},
   "outputs": [
    {
     "name": "stdout",
     "output_type": "stream",
     "text": [
      "                  Label  Count  Proportion\n",
      "0                FACE_F   1298    0.275994\n",
      "1                FACE_M    244    0.051882\n",
      "2      COVERED_BREAST_F    171    0.036360\n",
      "3       EXPOSED_ARMPITS    114    0.024240\n",
      "4      EXPOSED_BREAST_F    111    0.023602\n",
      "5          COVERED_FEET     80    0.017010\n",
      "6         EXPOSED_BELLY     72    0.015309\n",
      "7          EXPOSED_FEET     31    0.006592\n",
      "8      EXPOSED_BREAST_M     16    0.003402\n",
      "9      EXPOSED_BUTTOCKS     14    0.002977\n",
      "10  COVERED_GENITALIA_F     13    0.002764\n",
      "11  EXPOSED_GENITALIA_F      7    0.001488\n",
      "12     COVERED_BUTTOCKS      3    0.000638\n",
      "13  EXPOSED_GENITALIA_M      3    0.000638\n"
     ]
    }
   ],
   "source": [
    "import pandas as pd\n",
    "from collections import Counter\n",
    "\n",
    "# 读取文件\n",
    "df = pd.read_csv('nudenetresesd.csv')\n",
    "\n",
    "# 检查是否存在目标列\n",
    "if 'NudeNet_label' not in df.columns:\n",
    "    raise ValueError(\"文件中没有'NudeNet_label'列，请检查列名是否正确。\")\n",
    "\n",
    "# 定义计数器\n",
    "counter = Counter()\n",
    "total_rows = len(df)\n",
    "# 遍历每一行的标签\n",
    "for label_str in df['NudeNet_label'].dropna():\n",
    "    # 去除首尾空格\n",
    "    label_str = label_str.strip()\n",
    "    # 如果有多个标签，用 '-' 分割\n",
    "    parts = label_str.split('-')\n",
    "    for p in parts:\n",
    "        p = p.strip()\n",
    "        if p:  # 忽略空字符串\n",
    "            counter[p] += 1\n",
    "\n",
    "# 将结果转成 DataFrame，方便查看和保存\n",
    "result_df = pd.DataFrame(counter.items(), columns=['Label', 'Count'])\n",
    "result_df['Proportion'] = result_df['Count'] / total_rows\n",
    "result_df = result_df.sort_values(by='Count', ascending=False).reset_index(drop=True)\n",
    "\n",
    "\n",
    "# 打印前20个最常见标签\n",
    "print(result_df.head(500))\n",
    "\n",
    "# # 如果你想保存结果：\n",
    "# result_df.to_csv('label_count.csv', index=False)\n",
    "# print(\"结果已保存为 label_count.csv\")\n"
   ]
  }
 ],
 "metadata": {
  "kernelspec": {
   "display_name": "nudenet-env",
   "language": "python",
   "name": "python3"
  },
  "language_info": {
   "codemirror_mode": {
    "name": "ipython",
    "version": 3
   },
   "file_extension": ".py",
   "mimetype": "text/x-python",
   "name": "python",
   "nbconvert_exporter": "python",
   "pygments_lexer": "ipython3",
   "version": "3.9.24"
  }
 },
 "nbformat": 4,
 "nbformat_minor": 5
}
